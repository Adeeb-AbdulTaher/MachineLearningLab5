{
 "cells": [
  {
   "cell_type": "markdown",
   "metadata": {},
   "source": [
    "# Lab Assignment Five: Wide and Deep Network Architectures\n",
    "In this lab, you will select a prediction task to perform on your dataset, evaluate two different deep learning architectures and tune hyper-parameters for each architecture. If any part of the assignment is not clear, ask the instructor to clarify. \n",
    "\n",
    "This report is worth 10% of the final grade. Please upload a report (one per team) with all code used, visualizations, and text in a rendered Jupyter notebook. Any visualizations that cannot be embedded in the notebook, please provide screenshots of the output. The results should be reproducible using your report. Please carefully describe every assumption and every step in your report."
   ]
  },
  {
   "cell_type": "markdown",
   "metadata": {},
   "source": [
    "## Dataset Selection\n",
    "\n",
    "Select a dataset similarly to lab one. That is, the dataset must be table data and must have categorical features. In terms of generalization performance, it is helpful to have a large dataset for building a wide and deep network. It is also helpful to have many different categorical features to create the embeddings and cross-product embeddings. It is fine to perform binary classification, multi-class classification, or regression. You are NOT allowed to use the census (i.e., Adult) dataset that was given as an example in class. \n",
    "\n",
    "we have selected this dataset: https://www.kaggle.com/datasets/syedanwarafridi/vehicle-sales-data\n"
   ]
  },
  {
   "cell_type": "markdown",
   "metadata": {},
   "source": [
    "\n",
    "## Grading Rubric\n",
    "\n",
    "### Preparation (4 points total)\n",
    "- [1 points] Define and prepare your class variables. Use proper variable representations (int, float, one-hot, etc.). Use pre-processing methods (as needed) for dimensionality reduction, scaling, etc. Remove variables that are not needed/useful for the analysis. Describe the final dataset that is used for classification/regression (include a description of any newly formed variables you created). You have the option of using tf.dataset for processing, but it is not required. \n",
    "\n",
    "- [1 points] Identify groups of features in your data that should be combined into cross-product features. Provide a compelling justification for why these features should be crossed (or why some features should not be crossed). \n",
    "\n",
    "- [1 points] Choose and explain what metric(s) you will use to evaluate your algorithm’s performance. You should give a detailed argument for why this (these) metric(s) are appropriate on your data. That is, why is the metric appropriate for the task (e.g., in terms of the business case for the task). Please note: rarely is accuracy the best evaluation metric to use. Think deeply about an appropriate measure of performance.\n",
    "\n",
    "- [1 points] Choose the method you will use for dividing your data into training and testing (i.e., are you using Stratified 10-fold cross validation? Shuffle splits? Why?). Explain why your chosen method is appropriate or use more than one method as appropriate. Argue why your cross validation method is a realistic mirroring of how an algorithm would be used in practice. Use the method to split your data that you argue for. \n"
   ]
  },
  {
   "cell_type": "code",
   "execution_count": 14,
   "metadata": {},
   "outputs": [
    {
     "name": "stdout",
     "output_type": "stream",
     "text": [
      "<class 'pandas.core.frame.DataFrame'>\n",
      "RangeIndex: 558837 entries, 0 to 558836\n",
      "Data columns (total 16 columns):\n",
      " #   Column        Non-Null Count   Dtype  \n",
      "---  ------        --------------   -----  \n",
      " 0   year          558837 non-null  int64  \n",
      " 1   make          548536 non-null  object \n",
      " 2   model         548438 non-null  object \n",
      " 3   trim          548186 non-null  object \n",
      " 4   body          545642 non-null  object \n",
      " 5   transmission  493485 non-null  object \n",
      " 6   vin           558833 non-null  object \n",
      " 7   state         558837 non-null  object \n",
      " 8   condition     547017 non-null  float64\n",
      " 9   odometer      558743 non-null  float64\n",
      " 10  color         558088 non-null  object \n",
      " 11  interior      558088 non-null  object \n",
      " 12  seller        558837 non-null  object \n",
      " 13  mmr           558799 non-null  float64\n",
      " 14  sellingprice  558825 non-null  float64\n",
      " 15  saledate      558825 non-null  object \n",
      "dtypes: float64(4), int64(1), object(11)\n",
      "memory usage: 68.2+ MB\n",
      "None\n"
     ]
    }
   ],
   "source": [
    "import pandas as pd\n",
    "\n",
    "df = pd.read_csv('car_prices.csv')\n",
    "headers = df.columns\n",
    "print(df.info())\n"
   ]
  },
  {
   "cell_type": "code",
   "execution_count": 15,
   "metadata": {},
   "outputs": [
    {
     "name": "stdout",
     "output_type": "stream",
     "text": [
      "<class 'pandas.core.frame.DataFrame'>\n",
      "Index: 472325 entries, 0 to 558836\n",
      "Data columns (total 16 columns):\n",
      " #   Column        Non-Null Count   Dtype  \n",
      "---  ------        --------------   -----  \n",
      " 0   year          472325 non-null  int64  \n",
      " 1   make          472325 non-null  object \n",
      " 2   model         472325 non-null  object \n",
      " 3   trim          472325 non-null  object \n",
      " 4   body          472325 non-null  object \n",
      " 5   transmission  472325 non-null  object \n",
      " 6   vin           472325 non-null  object \n",
      " 7   state         472325 non-null  object \n",
      " 8   condition     472325 non-null  float64\n",
      " 9   odometer      472325 non-null  float64\n",
      " 10  color         472325 non-null  object \n",
      " 11  interior      472325 non-null  object \n",
      " 12  seller        472325 non-null  object \n",
      " 13  mmr           472325 non-null  float64\n",
      " 14  sellingprice  472325 non-null  float64\n",
      " 15  saledate      472325 non-null  object \n",
      "dtypes: float64(4), int64(1), object(11)\n",
      "memory usage: 61.3+ MB\n",
      "None\n"
     ]
    }
   ],
   "source": [
    "df.dropna(inplace=True)\n",
    "print(df.info())"
   ]
  },
  {
   "cell_type": "code",
   "execution_count": 18,
   "metadata": {},
   "outputs": [
    {
     "name": "stdout",
     "output_type": "stream",
     "text": [
      "<class 'pandas.core.frame.DataFrame'>\n",
      "Index: 417707 entries, 2 to 558836\n",
      "Data columns (total 16 columns):\n",
      " #   Column        Non-Null Count   Dtype  \n",
      "---  ------        --------------   -----  \n",
      " 0   year          417707 non-null  int64  \n",
      " 1   make          417707 non-null  object \n",
      " 2   model         417707 non-null  object \n",
      " 3   trim          417707 non-null  object \n",
      " 4   body          417707 non-null  object \n",
      " 5   transmission  417707 non-null  object \n",
      " 6   vin           417707 non-null  object \n",
      " 7   state         417707 non-null  object \n",
      " 8   condition     417707 non-null  float64\n",
      " 9   odometer      417707 non-null  float64\n",
      " 10  color         417707 non-null  object \n",
      " 11  interior      417707 non-null  object \n",
      " 12  seller        417707 non-null  object \n",
      " 13  mmr           417707 non-null  float64\n",
      " 14  sellingprice  417707 non-null  float64\n",
      " 15  saledate      417707 non-null  object \n",
      "dtypes: float64(4), int64(1), object(11)\n",
      "memory usage: 54.2+ MB\n",
      "None\n"
     ]
    }
   ],
   "source": [
    "df = df[df['year'] >= 2005]\n",
    "df = df[df['year'] < 2015]\n",
    "print(df.info())\n"
   ]
  },
  {
   "cell_type": "code",
   "execution_count": 19,
   "metadata": {},
   "outputs": [
    {
     "data": {
      "text/plain": [
       "year\n",
       "2013    87467\n",
       "2012    87380\n",
       "2014    69712\n",
       "2011    41384\n",
       "2008    27011\n",
       "2007    25378\n",
       "2010    22616\n",
       "2006    21631\n",
       "2009    17959\n",
       "2005    17169\n",
       "Name: count, dtype: int64"
      ]
     },
     "execution_count": 19,
     "metadata": {},
     "output_type": "execute_result"
    }
   ],
   "source": [
    "df['year'].value_counts()\n"
   ]
  },
  {
   "cell_type": "code",
   "execution_count": 21,
   "metadata": {},
   "outputs": [],
   "source": [
    "from sklearn.model_selection import train_test_split\n",
    "\n",
    "df_train_orig, df_test_orig = train_test_split(df, test_size=0.2, random_state=37)"
   ]
  },
  {
   "cell_type": "code",
   "execution_count": 22,
   "metadata": {},
   "outputs": [],
   "source": [
    "from copy import deepcopy\n",
    "df_train = deepcopy(df_train_orig)\n",
    "df_test = deepcopy(df_test_orig)"
   ]
  },
  {
   "cell_type": "code",
   "execution_count": 23,
   "metadata": {},
   "outputs": [
    {
     "data": {
      "text/html": [
       "<div>\n",
       "<style scoped>\n",
       "    .dataframe tbody tr th:only-of-type {\n",
       "        vertical-align: middle;\n",
       "    }\n",
       "\n",
       "    .dataframe tbody tr th {\n",
       "        vertical-align: top;\n",
       "    }\n",
       "\n",
       "    .dataframe thead th {\n",
       "        text-align: right;\n",
       "    }\n",
       "</style>\n",
       "<table border=\"1\" class=\"dataframe\">\n",
       "  <thead>\n",
       "    <tr style=\"text-align: right;\">\n",
       "      <th></th>\n",
       "      <th>year</th>\n",
       "      <th>make</th>\n",
       "      <th>model</th>\n",
       "      <th>trim</th>\n",
       "      <th>body</th>\n",
       "      <th>transmission</th>\n",
       "      <th>vin</th>\n",
       "      <th>state</th>\n",
       "      <th>condition</th>\n",
       "      <th>odometer</th>\n",
       "      <th>color</th>\n",
       "      <th>interior</th>\n",
       "      <th>seller</th>\n",
       "      <th>mmr</th>\n",
       "      <th>sellingprice</th>\n",
       "      <th>saledate</th>\n",
       "    </tr>\n",
       "  </thead>\n",
       "  <tbody>\n",
       "    <tr>\n",
       "      <th>387952</th>\n",
       "      <td>2008</td>\n",
       "      <td>Jeep</td>\n",
       "      <td>Liberty</td>\n",
       "      <td>Sport</td>\n",
       "      <td>SUV</td>\n",
       "      <td>automatic</td>\n",
       "      <td>1j8gn28k18w195884</td>\n",
       "      <td>oh</td>\n",
       "      <td>43.0</td>\n",
       "      <td>126044.0</td>\n",
       "      <td>red</td>\n",
       "      <td>gray</td>\n",
       "      <td>tc's used cars llc</td>\n",
       "      <td>6450.0</td>\n",
       "      <td>7800.0</td>\n",
       "      <td>Tue Mar 03 2015 01:30:00 GMT-0800 (PST)</td>\n",
       "    </tr>\n",
       "    <tr>\n",
       "      <th>369170</th>\n",
       "      <td>2014</td>\n",
       "      <td>Lincoln</td>\n",
       "      <td>MKX</td>\n",
       "      <td>Base</td>\n",
       "      <td>SUV</td>\n",
       "      <td>automatic</td>\n",
       "      <td>2lmdj8jk4ebl06749</td>\n",
       "      <td>tn</td>\n",
       "      <td>49.0</td>\n",
       "      <td>10077.0</td>\n",
       "      <td>—</td>\n",
       "      <td>beige</td>\n",
       "      <td>ford motor credit company</td>\n",
       "      <td>36600.0</td>\n",
       "      <td>34000.0</td>\n",
       "      <td>Thu Mar 05 2015 03:00:00 GMT-0800 (PST)</td>\n",
       "    </tr>\n",
       "    <tr>\n",
       "      <th>165759</th>\n",
       "      <td>2007</td>\n",
       "      <td>GMC</td>\n",
       "      <td>Yukon</td>\n",
       "      <td>SLE</td>\n",
       "      <td>SUV</td>\n",
       "      <td>automatic</td>\n",
       "      <td>1gkfk13047r312578</td>\n",
       "      <td>md</td>\n",
       "      <td>43.0</td>\n",
       "      <td>90057.0</td>\n",
       "      <td>blue</td>\n",
       "      <td>beige</td>\n",
       "      <td>lexus of rockville</td>\n",
       "      <td>16700.0</td>\n",
       "      <td>15400.0</td>\n",
       "      <td>Tue Jan 20 2015 01:30:00 GMT-0800 (PST)</td>\n",
       "    </tr>\n",
       "    <tr>\n",
       "      <th>113164</th>\n",
       "      <td>2012</td>\n",
       "      <td>Toyota</td>\n",
       "      <td>Prius c</td>\n",
       "      <td>Two</td>\n",
       "      <td>Hatchback</td>\n",
       "      <td>automatic</td>\n",
       "      <td>jtdkdtb34c1509187</td>\n",
       "      <td>pa</td>\n",
       "      <td>29.0</td>\n",
       "      <td>54808.0</td>\n",
       "      <td>black</td>\n",
       "      <td>gray</td>\n",
       "      <td>ken pollock nissan llc</td>\n",
       "      <td>11900.0</td>\n",
       "      <td>9000.0</td>\n",
       "      <td>Fri Jan 16 2015 01:00:00 GMT-0800 (PST)</td>\n",
       "    </tr>\n",
       "    <tr>\n",
       "      <th>75538</th>\n",
       "      <td>2011</td>\n",
       "      <td>GMC</td>\n",
       "      <td>Yukon</td>\n",
       "      <td>SLT</td>\n",
       "      <td>SUV</td>\n",
       "      <td>automatic</td>\n",
       "      <td>1gks1ce05br150916</td>\n",
       "      <td>ca</td>\n",
       "      <td>4.0</td>\n",
       "      <td>61831.0</td>\n",
       "      <td>black</td>\n",
       "      <td>black</td>\n",
       "      <td>rvr</td>\n",
       "      <td>23500.0</td>\n",
       "      <td>24500.0</td>\n",
       "      <td>Wed Dec 31 2014 12:30:00 GMT-0800 (PST)</td>\n",
       "    </tr>\n",
       "  </tbody>\n",
       "</table>\n",
       "</div>"
      ],
      "text/plain": [
       "        year     make    model   trim       body transmission  \\\n",
       "387952  2008     Jeep  Liberty  Sport        SUV    automatic   \n",
       "369170  2014  Lincoln      MKX   Base        SUV    automatic   \n",
       "165759  2007      GMC    Yukon    SLE        SUV    automatic   \n",
       "113164  2012   Toyota  Prius c    Two  Hatchback    automatic   \n",
       "75538   2011      GMC    Yukon    SLT        SUV    automatic   \n",
       "\n",
       "                      vin state  condition  odometer  color interior  \\\n",
       "387952  1j8gn28k18w195884    oh       43.0  126044.0    red     gray   \n",
       "369170  2lmdj8jk4ebl06749    tn       49.0   10077.0      —    beige   \n",
       "165759  1gkfk13047r312578    md       43.0   90057.0   blue    beige   \n",
       "113164  jtdkdtb34c1509187    pa       29.0   54808.0  black     gray   \n",
       "75538   1gks1ce05br150916    ca        4.0   61831.0  black    black   \n",
       "\n",
       "                           seller      mmr  sellingprice  \\\n",
       "387952         tc's used cars llc   6450.0        7800.0   \n",
       "369170  ford motor credit company  36600.0       34000.0   \n",
       "165759         lexus of rockville  16700.0       15400.0   \n",
       "113164     ken pollock nissan llc  11900.0        9000.0   \n",
       "75538                         rvr  23500.0       24500.0   \n",
       "\n",
       "                                       saledate  \n",
       "387952  Tue Mar 03 2015 01:30:00 GMT-0800 (PST)  \n",
       "369170  Thu Mar 05 2015 03:00:00 GMT-0800 (PST)  \n",
       "165759  Tue Jan 20 2015 01:30:00 GMT-0800 (PST)  \n",
       "113164  Fri Jan 16 2015 01:00:00 GMT-0800 (PST)  \n",
       "75538   Wed Dec 31 2014 12:30:00 GMT-0800 (PST)  "
      ]
     },
     "execution_count": 23,
     "metadata": {},
     "output_type": "execute_result"
    }
   ],
   "source": [
    "import numpy as np\n",
    "\n",
    "\n",
    "df_train.reset_index()\n",
    "\n",
    "df_test.reset_index()\n",
    "\n",
    "df_test.head()"
   ]
  },
  {
   "cell_type": "markdown",
   "metadata": {},
   "source": [
    "### Modeling (5 points total)\n",
    "- [2 points] Create at least three combined wide and deep networks to classify your data using Keras (this total of \"three\" includes the model you will train in the next step of the rubric). Visualize the performance of the network on the training data and validation data in the same plot versus the training iterations.\n",
    "Note: you can use the \"history\" return parameter that is part of Keras \"fit\" function to easily access this data.\n",
    "\n",
    "- [2 points] Investigate generalization performance by altering the number of layers in the deep branch of the network. Try at least two models (this \"two\" includes the wide and deep model trained from the previous step). Use the method of cross validation and evaluation metric that you argued for at the beginning of the lab to answer: What model with what number of layers performs superiorly? Use proper statistical methods to compare the performance of different models.\n",
    "\n",
    "- [1 points] Compare the performance of your best wide and deep network to a standard multi-layer perceptron (MLP). Alternatively, you can compare to a network without the wide branch (i.e., just the deep network). For classification tasks, compare using the receiver operating characteristic and area under the curve. For regression tasks, use Bland-Altman plots and residual variance calculations.  Use proper statistical methods to compare the performance of different models.  \n"
   ]
  },
  {
   "cell_type": "markdown",
   "metadata": {},
   "source": [
    "### Exceptional Work (1 points total)\n",
    "5000 students: You have free reign to provide additional analyses.\n",
    "One idea (required for 7000 level students): Capture the embedding weights from the deep network and (if needed) perform dimensionality reduction on the output of these embedding layers (only if needed). That is, pass the observations into the network, save the embedded weights (called embeddings), and then perform  dimensionality reduction in order to visualize results. Visualize and explain any clusters in the data."
   ]
  }
 ],
 "metadata": {
  "kernelspec": {
   "display_name": "Python 3",
   "language": "python",
   "name": "python3"
  },
  "language_info": {
   "codemirror_mode": {
    "name": "ipython",
    "version": 3
   },
   "file_extension": ".py",
   "mimetype": "text/x-python",
   "name": "python",
   "nbconvert_exporter": "python",
   "pygments_lexer": "ipython3",
   "version": "3.11.5"
  }
 },
 "nbformat": 4,
 "nbformat_minor": 2
}
