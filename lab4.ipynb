{
 "cells": [
  {
   "cell_type": "markdown",
   "metadata": {},
   "source": [
    "# Lab Assignment Five: Wide and Deep Network Architectures\n",
    "In this lab, you will select a prediction task to perform on your dataset, evaluate two different deep learning architectures and tune hyper-parameters for each architecture. If any part of the assignment is not clear, ask the instructor to clarify. \n",
    "\n",
    "This report is worth 10% of the final grade. Please upload a report (one per team) with all code used, visualizations, and text in a rendered Jupyter notebook. Any visualizations that cannot be embedded in the notebook, please provide screenshots of the output. The results should be reproducible using your report. Please carefully describe every assumption and every step in your report."
   ]
  },
  {
   "cell_type": "markdown",
   "metadata": {},
   "source": [
    "## Dataset Selection\n",
    "\n",
    "Select a dataset similarly to lab one. That is, the dataset must be table data and must have categorical features. In terms of generalization performance, it is helpful to have a large dataset for building a wide and deep network. It is also helpful to have many different categorical features to create the embeddings and cross-product embeddings. It is fine to perform binary classification, multi-class classification, or regression. You are NOT allowed to use the census (i.e., Adult) dataset that was given as an example in class. \n",
    "\n",
    "we have selected this dataset: https://www.kaggle.com/datasets/syedanwarafridi/vehicle-sales-data\n"
   ]
  },
  {
   "cell_type": "markdown",
   "metadata": {},
   "source": [
    "\n",
    "## Grading Rubric\n",
    "\n",
    "### Preparation (4 points total)\n",
    "- [1 points] Define and prepare your class variables. Use proper variable representations (int, float, one-hot, etc.). Use pre-processing methods (as needed) for dimensionality reduction, scaling, etc. Remove variables that are not needed/useful for the analysis. Describe the final dataset that is used for classification/regression (include a description of any newly formed variables you created). You have the option of using tf.dataset for processing, but it is not required. \n",
    "\n",
    "- [1 points] Identify groups of features in your data that should be combined into cross-product features. Provide a compelling justification for why these features should be crossed (or why some features should not be crossed). \n",
    "\n",
    "- [1 points] Choose and explain what metric(s) you will use to evaluate your algorithm’s performance. You should give a detailed argument for why this (these) metric(s) are appropriate on your data. That is, why is the metric appropriate for the task (e.g., in terms of the business case for the task). Please note: rarely is accuracy the best evaluation metric to use. Think deeply about an appropriate measure of performance.\n",
    "\n",
    "- [1 points] Choose the method you will use for dividing your data into training and testing (i.e., are you using Stratified 10-fold cross validation? Shuffle splits? Why?). Explain why your chosen method is appropriate or use more than one method as appropriate. Argue why your cross validation method is a realistic mirroring of how an algorithm would be used in practice. Use the method to split your data that you argue for. \n"
   ]
  },
  {
   "cell_type": "code",
   "execution_count": 132,
   "metadata": {},
   "outputs": [
    {
     "name": "stdout",
     "output_type": "stream",
     "text": [
      "<class 'pandas.core.frame.DataFrame'>\n",
      "RangeIndex: 558837 entries, 0 to 558836\n",
      "Data columns (total 16 columns):\n",
      " #   Column        Non-Null Count   Dtype  \n",
      "---  ------        --------------   -----  \n",
      " 0   year          558837 non-null  int64  \n",
      " 1   make          548536 non-null  object \n",
      " 2   model         548438 non-null  object \n",
      " 3   trim          548186 non-null  object \n",
      " 4   body          545642 non-null  object \n",
      " 5   transmission  493485 non-null  object \n",
      " 6   vin           558833 non-null  object \n",
      " 7   state         558837 non-null  object \n",
      " 8   condition     547017 non-null  float64\n",
      " 9   odometer      558743 non-null  float64\n",
      " 10  color         558088 non-null  object \n",
      " 11  interior      558088 non-null  object \n",
      " 12  seller        558837 non-null  object \n",
      " 13  mmr           558799 non-null  float64\n",
      " 14  sellingprice  558825 non-null  float64\n",
      " 15  saledate      558825 non-null  object \n",
      "dtypes: float64(4), int64(1), object(11)\n",
      "memory usage: 68.2+ MB\n",
      "None\n"
     ]
    }
   ],
   "source": [
    "import pandas as pd\n",
    "\n",
    "df = pd.read_csv('car_prices.csv')\n",
    "headers = df.columns\n",
    "print(df.info())\n"
   ]
  },
  {
   "cell_type": "code",
   "execution_count": 133,
   "metadata": {},
   "outputs": [
    {
     "name": "stdout",
     "output_type": "stream",
     "text": [
      "<class 'pandas.core.frame.DataFrame'>\n",
      "Index: 472325 entries, 0 to 558836\n",
      "Data columns (total 16 columns):\n",
      " #   Column        Non-Null Count   Dtype  \n",
      "---  ------        --------------   -----  \n",
      " 0   year          472325 non-null  int64  \n",
      " 1   make          472325 non-null  object \n",
      " 2   model         472325 non-null  object \n",
      " 3   trim          472325 non-null  object \n",
      " 4   body          472325 non-null  object \n",
      " 5   transmission  472325 non-null  object \n",
      " 6   vin           472325 non-null  object \n",
      " 7   state         472325 non-null  object \n",
      " 8   condition     472325 non-null  float64\n",
      " 9   odometer      472325 non-null  float64\n",
      " 10  color         472325 non-null  object \n",
      " 11  interior      472325 non-null  object \n",
      " 12  seller        472325 non-null  object \n",
      " 13  mmr           472325 non-null  float64\n",
      " 14  sellingprice  472325 non-null  float64\n",
      " 15  saledate      472325 non-null  object \n",
      "dtypes: float64(4), int64(1), object(11)\n",
      "memory usage: 61.3+ MB\n",
      "None\n"
     ]
    }
   ],
   "source": [
    "df.dropna(inplace=True)\n",
    "print(df.info())"
   ]
  },
  {
   "cell_type": "code",
   "execution_count": 134,
   "metadata": {},
   "outputs": [
    {
     "name": "stdout",
     "output_type": "stream",
     "text": [
      "<class 'pandas.core.frame.DataFrame'>\n",
      "Index: 417707 entries, 2 to 558836\n",
      "Data columns (total 16 columns):\n",
      " #   Column        Non-Null Count   Dtype  \n",
      "---  ------        --------------   -----  \n",
      " 0   year          417707 non-null  int64  \n",
      " 1   make          417707 non-null  object \n",
      " 2   model         417707 non-null  object \n",
      " 3   trim          417707 non-null  object \n",
      " 4   body          417707 non-null  object \n",
      " 5   transmission  417707 non-null  object \n",
      " 6   vin           417707 non-null  object \n",
      " 7   state         417707 non-null  object \n",
      " 8   condition     417707 non-null  float64\n",
      " 9   odometer      417707 non-null  float64\n",
      " 10  color         417707 non-null  object \n",
      " 11  interior      417707 non-null  object \n",
      " 12  seller        417707 non-null  object \n",
      " 13  mmr           417707 non-null  float64\n",
      " 14  sellingprice  417707 non-null  float64\n",
      " 15  saledate      417707 non-null  object \n",
      "dtypes: float64(4), int64(1), object(11)\n",
      "memory usage: 54.2+ MB\n",
      "None\n"
     ]
    }
   ],
   "source": [
    "#other years have limited entries, so we will focus on 2005-2014\n",
    "\n",
    "df = df[df['year'] >= 2005]\n",
    "df = df[df['year'] < 2015]\n",
    "print(df.info())\n"
   ]
  },
  {
   "cell_type": "code",
   "execution_count": 135,
   "metadata": {},
   "outputs": [
    {
     "data": {
      "text/plain": [
       "year\n",
       "2013    87467\n",
       "2012    87380\n",
       "2014    69712\n",
       "2011    41384\n",
       "2008    27011\n",
       "2007    25378\n",
       "2010    22616\n",
       "2006    21631\n",
       "2009    17959\n",
       "2005    17169\n",
       "Name: count, dtype: int64"
      ]
     },
     "execution_count": 135,
     "metadata": {},
     "output_type": "execute_result"
    }
   ],
   "source": [
    "df['year'].value_counts()\n"
   ]
  },
  {
   "cell_type": "code",
   "execution_count": 136,
   "metadata": {},
   "outputs": [
    {
     "name": "stdout",
     "output_type": "stream",
     "text": [
      "price_interval\n",
      "(12500.0, inf]    219069\n",
      "(0.0, 12500.0]    198638\n",
      "Name: count, dtype: int64\n"
     ]
    }
   ],
   "source": [
    "import pandas as pd\n",
    "\n",
    "# Define the intervals for the selling price column\n",
    "intervals = [0,12500, float('inf')]\n",
    "\n",
    "# Create a new column with the interval labels\n",
    "df['price_interval'] = pd.cut(df['sellingprice'], bins=intervals)\n",
    "\n",
    "# Count the number of entries in each interval\n",
    "interval_counts = df['price_interval'].value_counts()\n",
    "\n",
    "# Print the number of entries in each interval\n",
    "print(interval_counts)\n"
   ]
  },
  {
   "cell_type": "code",
   "execution_count": 137,
   "metadata": {},
   "outputs": [
    {
     "name": "stdout",
     "output_type": "stream",
     "text": [
      "['328i SULEV' '650i' 'Base' ... 'pure' 'EWB' 'Power Wagon']\n"
     ]
    }
   ],
   "source": [
    "unique_trim = df['trim'].unique()\n",
    "print(unique_trim)"
   ]
  },
  {
   "cell_type": "code",
   "execution_count": 138,
   "metadata": {},
   "outputs": [
    {
     "name": "stdout",
     "output_type": "stream",
     "text": [
      "['3 Series' '6 Series Gran Coupe' 'M5' 'Cruze' 'A4' 'Camaro' 'A6' 'Q5'\n",
      " '6 Series' '5 Series' 'SQ5' 'S5' 'ELR' 'X6' 'ILX' 'A8' 'X1' 'Enclave'\n",
      " 'TTS' '4 Series' 'MDX' 'Silverado 1500' 'SRX' 'X5' 'G Coupe' 'G Sedan'\n",
      " 'FX' 'Santa Fe' 'Genesis' 'Equus' 'Elantra' 'Sonata' 'Sonata Hybrid'\n",
      " 'Accent' 'Veloster' 'Elantra Coupe' 'Azera' 'Tucson' 'Genesis Coupe'\n",
      " 'Wrangler' 'Optima' 'Altima' 'S-Class' 'GS 350' 'Outlander' 'C-Class'\n",
      " 'Mazda2' 'Rio' 'M' '370Z' 'Soul' 'Sorento' 'Outlander Sport' 'SLK-Class'\n",
      " 'ES 350' 'E-Class' 'Mazda3' 'Cooper Clubman' 'Cooper' 'CX-9' 'Forte'\n",
      " 'Compass' 'JX' 'LR4' 'Mazda5' 'Range Rover Evoque' 'LS 460' 'GLK-Class'\n",
      " 'Sportage' 'Grand Cherokee' 'MKX' 'XF' 'GL-Class' 'M-Class'\n",
      " 'Cooper Countryman' 'RX 350' 'Lancer' 'Range Rover Sport' 'Passat'\n",
      " 'Corolla' 'XC60' 'Sienna' 'Juke' 'Yaris' 'NV' 'CC' 'Leaf' 'Camry'\n",
      " 'Tacoma' 'Jetta' 'Impreza WRX' 'FJ Cruiser' 'Beetle' 'Avalon' 'FR-S'\n",
      " 'NV200' 'Rogue' 'Tundra' 'Maxima' 'Cayenne' '911' 'Xterra' 'Versa'\n",
      " 'Sentra' 'Prius' 'S80' 'Frontier' 'Boxster' 'Camry Hybrid' 'xB' 'Cube'\n",
      " 'Jetta SportWagen' '4Runner' 'Sequoia' 'S60' 'Legacy' 'Armada' 'Venza'\n",
      " 'Pathfinder' 'Panamera' 'Forester' 'Highlander' 'Murano' 'TSX' '7 Series'\n",
      " '1 Series' 'TL' 'S4' 'A7' 'A5' 'M3' 'Cooper Coupe' 'RDX' 'ZDX' 'R8' 'X3'\n",
      " 'Avenger' 'Escape' 'Edge' 'Focus' 'Z4' 'Traverse' 'Malibu'\n",
      " 'Silverado 2500HD' 'F-350 Super Duty' 'Fiesta' '500' '200' 'Journey'\n",
      " 'Charger' 'Flex' 'Equinox' '300' 'Explorer' 'Captiva Sport' 'Impala'\n",
      " 'Escalade' 'Grand Caravan' 'CTS Coupe' 'F-150' 'E-Series Van' 'Volt'\n",
      " 'Fusion' 'E-Series Wagon' 'Express Cargo' 'X5 M' 'Expedition' 'Colorado'\n",
      " 'Express' 'California' 'Escalade ESV' 'Town and Country' 'Sonic' 'Accord'\n",
      " 'CR-V' 'Mustang' 'Civic' 'Fit' 'Pilot' 'Odyssey' 'Crosstour'\n",
      " 'Transit Connect' 'Terrain' 'Taurus' 'G Convertible' 'Yukon' 'Veracruz'\n",
      " 'XJ' 'Liberty' 'IS 250' 'XK' 'QX' 'CT 200h' 'Mazda6' 'MKZ' 'Navigator'\n",
      " 'Range Rover' 'SL-Class' 'Sedona' 'IS 350' 'Patriot' '1500' 'Impreza'\n",
      " 'GT-R' 'tC' '2500' 'Galant' 'fortwo' 'GLI' '5 Series Gran Turismo' 'XC90'\n",
      " 'Tiguan' 'GTI' 'Q7' 'Highlander Hybrid' 'RAV4' 'XC70' 'A3'\n",
      " 'Prius Plug-in' 'CR-Z' 'EX' 'Suburban' 'Sierra 1500' 'LaCrosse' 'HHR'\n",
      " 'Accord Crosstour' 'CTS' 'Nitro' 'Tahoe' 'Challenger' 'CTS-V'\n",
      " 'Escape Hybrid' 'X6 M' 'Ranger' 'Insight' 'Fusion Hybrid' 'CTS-V Coupe'\n",
      " 'F-250 Super Duty' 'Acadia' 'Impala Limited' 'Dart' 'M37' 'Sprinter'\n",
      " 'Town Car' 'RX 450h' 'MKT' 'QX56' 'CX-7' 'Aveo' 'Outback' 'Caliber'\n",
      " 'Routan' 'Sebring' 'Corvette' 'Continental GT Speed' 'malibu'\n",
      " 'Land Cruiser' 'V50' 'Commander' 'Altima Hybrid' 'G37 Convertible'\n",
      " 'New Beetle' 'Golf' 'LR2' 'Lancer Sportback' 'G5' 'Yukon XL'\n",
      " 'Escalade Hybrid' 'Avalanche' 'Spectra' 'Rondo' 'Borrego' 'G-Class' 'MKS'\n",
      " 'CLK-Class' 'Tahoe Hybrid' 'Econoline Cargo' 'Econoline Wagon'\n",
      " 'CLS-Class' 'STS' 'Ridgeline' 'F-450 Super Duty' 'Magnum' 'Durango' 'S40'\n",
      " 'Malibu Classic' 'TT' 'Explorer Sport Trac' 'Ram Pickup 1500'\n",
      " 'PT Cruiser' 'Pacifica' 'S6' 'Rabbit' 'Sierra 2500HD' 'C30' 'VUE'\n",
      " 'GranTurismo' 'G6' 'Grand Prix' '350Z' 'Raider' 'Mazdaspeed Mazda3'\n",
      " 'Solstice' 'Milan' 'GX 470' 'RX 400h' 'Titan' 'H3' 'CL-Class' 'Outlook'\n",
      " 'G37' 'IS F' 'Touareg 2' 'Lancer Evolution' 'G35' 'xD' 'XJ-Series'\n",
      " 'Cobalt' 'H2' 'DTS' 'M45' 'Uplander' 'GS 450h' 'Silverado 1500 Classic'\n",
      " 'Rendezvous' 'FX35' 'ION' 'R-Class' 'Eclipse' 'Aura' 'RSX' 'Five Hundred'\n",
      " 'Envoy XL' 'S-Type' 'Continental Flying Spur' 'S2000' 'FX45' 'Element'\n",
      " 'Monte Carlo' 'Cayman S' 'Mark LT' 'GS 300' 'Camry Solara' 'Touareg'\n",
      " 'allroad quattro' '9-3' '500L' 'Sprinter Cargo' 'DeVille' 'H2 SUT'\n",
      " 'TrailBlazer' 'Canyon' 'Dakota' 'Continental GT' 'Neon' 'ES 330'\n",
      " 'Freestyle' 'Stratus' 'Q45' 'Freestar' 'Quest' 'Aviator' 'LS 430'\n",
      " 'Santa Fe Sport' 'Cherokee' 'Cadenza' 'Q50' 'Elantra GT' 'F-TYPE'\n",
      " 'Shelby GT500' 'QX70' 'QX60' 'Q60 Convertible' 'Cooper Roadster' 'CX-5'\n",
      " 'Cooper Paceman' 'Versa Note' 'MX-5 Miata' 'Rogue Select' 'Cayman'\n",
      " 'CLA-Class' 'allroad' 'ATS' 'Prius v' 'Continental GTC' 'XV Crosstrek'\n",
      " 'C-Max Energi' 'C-Max Hybrid' 'Spark' 'RS 7' 'GX 460' 'CTS Wagon'\n",
      " 'SLS AMG' 'Ram Pickup 2500' 'Eclipse Spyder' 'Vibe' 'Eos'\n",
      " 'Ram Pickup 3500' 'Caravan' 'XLR' 'Mariner' 'SSR' 'Safari Cargo' 'Amanti'\n",
      " 'LX 570' 'QX80' 'RS 5' 'Jetta GLI' 'ES 300h' 'SX4' 'iQ' '3500'\n",
      " 'Grand Vitara' 'Kizashi' 'C/V Cargo Van' 'Prius c' 'C70' 'Regal'\n",
      " 'Lucerne' 'Silverado 3500HD' 'Crown Victoria' 'Sierra 3500HD' 'M56'\n",
      " 'Endeavor' '9-5' 'RL' 'ActiveHybrid X6' 'M35' 'Elantra Touring'\n",
      " 'G37 Coupe' 'HS 250h' 'Mazdaspeed3' 'Grand Marquis' 'Milan Hybrid'\n",
      " 'Ghost' 'Matrix' 'Silverado 1500 Hybrid' 'Aspen' 'Savana Cargo'\n",
      " 'Taurus X' '6' 'Sable' 'Mariner Hybrid' 'G8' 'Torrent' 'VUE Hybrid' 'G3'\n",
      " '9-7X' 'Expedition EL' 'Envoy' 'Yukon Hybrid' 'Tiburon' 'X-Type' 'LR3'\n",
      " 'Mountaineer' 'Astra' 'Tribeca' 'XL7' 'Forenza' 'Sky' 'M6' 'S8' 'Terraza'\n",
      " 'Silverado 2500HD Classic' 'Focus ST' 'Fusion Energi' 'Entourage'\n",
      " 'B-Series Truck' 'Mazdaspeed Mazda6' 'Montego' 'B9 Tribeca'\n",
      " 'Escalade EXT' 'Rainier' 'Silverado 1500HD' 'Silverado 3500'\n",
      " 'Malibu Maxx' 'Crossfire' 'TrailBlazer EXT' 'Sierra 1500HD' 'Savana'\n",
      " 'RX 330' 'Zephyr' 'MPV' 'Quattroporte' 'Relay' 'XL-7' 'Verona' 'V70'\n",
      " 'Century' 'LeSabre' 'Park Avenue' 'Cavalier' 'Classic' 'Excursion'\n",
      " 'XG350' 'Tribute' 'Q60 Coupe' 'Q70' 'QX50' 'GTO' 'Grand Am' 'Sunfire'\n",
      " 'Bonneville' 'Baja' 'ECHO' 'Mirage' 'Murano CrossCabriolet'\n",
      " 'Jetta Hybrid' 'S7' 'Encore' 'Verano' 'XTS' 'Black Diamond Avalanche'\n",
      " 'RLX' '2 Series' 'M6 Gran Coupe' 'C/V Tradesman' 'BRZ' 'Model S'\n",
      " 'Beetle Convertible' 'Golf R' 'TSX Sport Wagon' 'Corvette Stingray' 'SS'\n",
      " 'IS 250 C' 'Mazdaspeed 3' 'i-MiEV' 'F430' 'R32' 'XK-Series' 'Thunderbird'\n",
      " 'IS 350 C' 'EX35' 'LS' 'Reno' 'Astro Cargo' 'Envoy XUV' 'IS 300'\n",
      " 'Montana' 'Aerio' 'Promaster Cargo Van' 'Malibu Hybrid'\n",
      " 'Sierra 1500 Classic' 'GS 430' 'Accord Hybrid' 'NV Cargo'\n",
      " '3 Series Gran Turismo' 'Monterey' 'Viper' 'Avalon Hybrid' 'RX-8'\n",
      " 'V8 Vantage' 'Equator' 'Sierra 2500HD Classic' 'Ascender' 'Astro' '9-2X'\n",
      " 'xA' 'Freelander' 'GranTurismo Convertible' 'Blazer' 'Venture' 'Montero'\n",
      " 'L300' 'ActiveHybrid 7' 'GS 460' 'Tribute Hybrid' 'Aura Hybrid'\n",
      " 'i-Series' 'MKZ Hybrid' 'FX50' 'STS-V' 'Safari' 'Ghibli' 'CTS-V Wagon'\n",
      " 'Karma' 'Navigator L' 'Z4 M' 'CV Tradesman' 'DB9' 'i8' 'Rapide'\n",
      " 'Montana SV6' 'NV Passenger' 'LS 600h L' 'H3T' 'Silverado 3500 Classic'\n",
      " 'GranSport' '500e' 'Continental Supersports' '3' 'Sierra 3500' 'Gallardo'\n",
      " 'Continental Flying Spur Speed' 'Celica' 'TT RS' 'ActiveHybrid 5'\n",
      " 'Sierra 1500 Hybrid' 'RS 4' 'Continental GTC Speed'\n",
      " 'B-Class Electric Drive' 'Exige' 'Spark EV' 'SLS AMG GT' 'mdx' 'Phaeton'\n",
      " '458 Italia']\n"
     ]
    }
   ],
   "source": [
    "unique_model = df['model'].unique()\n",
    "print(unique_model)"
   ]
  },
  {
   "cell_type": "code",
   "execution_count": 139,
   "metadata": {},
   "outputs": [
    {
     "name": "stdout",
     "output_type": "stream",
     "text": [
      "['Sedan' 'Convertible' 'SUV' 'Coupe' 'Crew Cab' 'G Coupe' 'G Sedan'\n",
      " 'Hatchback' 'Elantra Coupe' 'Genesis Coupe' 'Wagon' 'Minivan' 'Van'\n",
      " 'Double Cab' 'CrewMax Cab' 'Access Cab' 'King Cab' 'CTS Coupe'\n",
      " 'SuperCrew' 'E-Series Van' 'Extended Cab' 'SuperCab' 'G Convertible'\n",
      " 'Koup' 'Regular Cab' 'Quad Cab' 'CTS-V Coupe' 'sedan' 'G37 Convertible'\n",
      " 'Club Cab' 'Q60 Convertible' 'CTS Wagon' 'G37 Coupe' 'Mega Cab'\n",
      " 'Cab Plus 4' 'Q60 Coupe' 'Beetle Convertible' 'TSX Sport Wagon'\n",
      " 'Promaster Cargo Van' 'GranTurismo Convertible' 'CTS-V Wagon'\n",
      " 'convertible' 'minivan' 'van' 'regular-cab' 'suv' 'g sedan' 'g coupe'\n",
      " 'hatchback' 'king cab' 'supercrew' 'g convertible' 'coupe' 'crew cab'\n",
      " 'wagon' 'e-series van' 'regular cab' 'quad cab' 'g37 convertible'\n",
      " 'supercab' 'extended cab' 'crewmax cab' 'double cab' 'genesis coupe'\n",
      " 'access cab' 'mega cab' 'beetle convertible' 'cts coupe' 'koup'\n",
      " 'club cab' 'elantra coupe' 'cts-v coupe' 'granturismo convertible'\n",
      " 'tsx sport wagon' 'promaster cargo van' 'q60 convertible' 'q60 coupe'\n",
      " 'cab plus 4' 'cts wagon']\n"
     ]
    },
    {
     "data": {
      "text/plain": [
       "79"
      ]
     },
     "execution_count": 139,
     "metadata": {},
     "output_type": "execute_result"
    }
   ],
   "source": [
    "unique_makes = df['body'].unique()\n",
    "print(unique_makes)\n",
    "len(unique_makes)"
   ]
  },
  {
   "cell_type": "code",
   "execution_count": 140,
   "metadata": {},
   "outputs": [],
   "source": [
    "df['body'] = df['body'].str.lower()\n",
    "replacements = {\n",
    "    'convertible': 'convertible',\n",
    "    'coupe|koup': 'coupe',\n",
    "    'cab|crew': 'cab',\n",
    "    'van': 'van',\n",
    "    'wagon': 'wagon',\n",
    "    'sedan': 'sedan'\n",
    "}\n",
    "\n",
    "for key, value in replacements.items():\n",
    "    df.loc[df['body'].str.contains(key, case=False), 'body'] = value"
   ]
  },
  {
   "cell_type": "code",
   "execution_count": 141,
   "metadata": {},
   "outputs": [
    {
     "name": "stdout",
     "output_type": "stream",
     "text": [
      "['sedan' 'convertible' 'suv' 'coupe' 'cab' 'hatchback' 'wagon' 'van']\n"
     ]
    },
    {
     "data": {
      "text/plain": [
       "body\n",
       "sedan          195081\n",
       "suv            105395\n",
       "cab             35395\n",
       "van             24024\n",
       "hatchback       22121\n",
       "coupe           15177\n",
       "wagon           12756\n",
       "convertible      7758\n",
       "Name: count, dtype: int64"
      ]
     },
     "execution_count": 141,
     "metadata": {},
     "output_type": "execute_result"
    }
   ],
   "source": [
    "unique_makes = df['body'].unique()\n",
    "print(unique_makes)\n",
    "df['body'].value_counts()"
   ]
  },
  {
   "cell_type": "code",
   "execution_count": 142,
   "metadata": {},
   "outputs": [],
   "source": [
    "# should we use string for ordinal data? or should we use integers?\n",
    "\n",
    "ranges = [(0, 11, 'poor'), (11, 21, 'not good'), (21, 31, 'fair'), (31, 41, 'good'), (41, 51, 'great')]\n",
    "\n",
    "for start, end, label in ranges:\n",
    "    df['condition'] = df['condition'].replace(range(start, end), label)\n"
   ]
  },
  {
   "cell_type": "code",
   "execution_count": 143,
   "metadata": {},
   "outputs": [],
   "source": [
    "from sklearn.model_selection import train_test_split\n",
    "\n",
    "df_train_orig, df_test_orig = train_test_split(df, test_size=0.2, random_state=37)"
   ]
  },
  {
   "cell_type": "code",
   "execution_count": 144,
   "metadata": {},
   "outputs": [],
   "source": [
    "from copy import deepcopy\n",
    "df_train = deepcopy(df_train_orig)\n",
    "df_test = deepcopy(df_test_orig)"
   ]
  },
  {
   "cell_type": "code",
   "execution_count": 145,
   "metadata": {},
   "outputs": [
    {
     "data": {
      "text/html": [
       "<div>\n",
       "<style scoped>\n",
       "    .dataframe tbody tr th:only-of-type {\n",
       "        vertical-align: middle;\n",
       "    }\n",
       "\n",
       "    .dataframe tbody tr th {\n",
       "        vertical-align: top;\n",
       "    }\n",
       "\n",
       "    .dataframe thead th {\n",
       "        text-align: right;\n",
       "    }\n",
       "</style>\n",
       "<table border=\"1\" class=\"dataframe\">\n",
       "  <thead>\n",
       "    <tr style=\"text-align: right;\">\n",
       "      <th></th>\n",
       "      <th>year</th>\n",
       "      <th>make</th>\n",
       "      <th>model</th>\n",
       "      <th>trim</th>\n",
       "      <th>body</th>\n",
       "      <th>transmission</th>\n",
       "      <th>vin</th>\n",
       "      <th>state</th>\n",
       "      <th>condition</th>\n",
       "      <th>odometer</th>\n",
       "      <th>color</th>\n",
       "      <th>interior</th>\n",
       "      <th>seller</th>\n",
       "      <th>mmr</th>\n",
       "      <th>sellingprice</th>\n",
       "      <th>saledate</th>\n",
       "      <th>price_interval</th>\n",
       "    </tr>\n",
       "  </thead>\n",
       "  <tbody>\n",
       "    <tr>\n",
       "      <th>387952</th>\n",
       "      <td>2008</td>\n",
       "      <td>Jeep</td>\n",
       "      <td>Liberty</td>\n",
       "      <td>Sport</td>\n",
       "      <td>suv</td>\n",
       "      <td>automatic</td>\n",
       "      <td>1j8gn28k18w195884</td>\n",
       "      <td>oh</td>\n",
       "      <td>great</td>\n",
       "      <td>126044.0</td>\n",
       "      <td>red</td>\n",
       "      <td>gray</td>\n",
       "      <td>tc's used cars llc</td>\n",
       "      <td>6450.0</td>\n",
       "      <td>7800.0</td>\n",
       "      <td>Tue Mar 03 2015 01:30:00 GMT-0800 (PST)</td>\n",
       "      <td>(0.0, 12500.0]</td>\n",
       "    </tr>\n",
       "    <tr>\n",
       "      <th>369170</th>\n",
       "      <td>2014</td>\n",
       "      <td>Lincoln</td>\n",
       "      <td>MKX</td>\n",
       "      <td>Base</td>\n",
       "      <td>suv</td>\n",
       "      <td>automatic</td>\n",
       "      <td>2lmdj8jk4ebl06749</td>\n",
       "      <td>tn</td>\n",
       "      <td>great</td>\n",
       "      <td>10077.0</td>\n",
       "      <td>—</td>\n",
       "      <td>beige</td>\n",
       "      <td>ford motor credit company</td>\n",
       "      <td>36600.0</td>\n",
       "      <td>34000.0</td>\n",
       "      <td>Thu Mar 05 2015 03:00:00 GMT-0800 (PST)</td>\n",
       "      <td>(12500.0, inf]</td>\n",
       "    </tr>\n",
       "    <tr>\n",
       "      <th>165759</th>\n",
       "      <td>2007</td>\n",
       "      <td>GMC</td>\n",
       "      <td>Yukon</td>\n",
       "      <td>SLE</td>\n",
       "      <td>suv</td>\n",
       "      <td>automatic</td>\n",
       "      <td>1gkfk13047r312578</td>\n",
       "      <td>md</td>\n",
       "      <td>great</td>\n",
       "      <td>90057.0</td>\n",
       "      <td>blue</td>\n",
       "      <td>beige</td>\n",
       "      <td>lexus of rockville</td>\n",
       "      <td>16700.0</td>\n",
       "      <td>15400.0</td>\n",
       "      <td>Tue Jan 20 2015 01:30:00 GMT-0800 (PST)</td>\n",
       "      <td>(12500.0, inf]</td>\n",
       "    </tr>\n",
       "    <tr>\n",
       "      <th>113164</th>\n",
       "      <td>2012</td>\n",
       "      <td>Toyota</td>\n",
       "      <td>Prius c</td>\n",
       "      <td>Two</td>\n",
       "      <td>hatchback</td>\n",
       "      <td>automatic</td>\n",
       "      <td>jtdkdtb34c1509187</td>\n",
       "      <td>pa</td>\n",
       "      <td>fair</td>\n",
       "      <td>54808.0</td>\n",
       "      <td>black</td>\n",
       "      <td>gray</td>\n",
       "      <td>ken pollock nissan llc</td>\n",
       "      <td>11900.0</td>\n",
       "      <td>9000.0</td>\n",
       "      <td>Fri Jan 16 2015 01:00:00 GMT-0800 (PST)</td>\n",
       "      <td>(0.0, 12500.0]</td>\n",
       "    </tr>\n",
       "    <tr>\n",
       "      <th>75538</th>\n",
       "      <td>2011</td>\n",
       "      <td>GMC</td>\n",
       "      <td>Yukon</td>\n",
       "      <td>SLT</td>\n",
       "      <td>suv</td>\n",
       "      <td>automatic</td>\n",
       "      <td>1gks1ce05br150916</td>\n",
       "      <td>ca</td>\n",
       "      <td>poor</td>\n",
       "      <td>61831.0</td>\n",
       "      <td>black</td>\n",
       "      <td>black</td>\n",
       "      <td>rvr</td>\n",
       "      <td>23500.0</td>\n",
       "      <td>24500.0</td>\n",
       "      <td>Wed Dec 31 2014 12:30:00 GMT-0800 (PST)</td>\n",
       "      <td>(12500.0, inf]</td>\n",
       "    </tr>\n",
       "  </tbody>\n",
       "</table>\n",
       "</div>"
      ],
      "text/plain": [
       "        year     make    model   trim       body transmission  \\\n",
       "387952  2008     Jeep  Liberty  Sport        suv    automatic   \n",
       "369170  2014  Lincoln      MKX   Base        suv    automatic   \n",
       "165759  2007      GMC    Yukon    SLE        suv    automatic   \n",
       "113164  2012   Toyota  Prius c    Two  hatchback    automatic   \n",
       "75538   2011      GMC    Yukon    SLT        suv    automatic   \n",
       "\n",
       "                      vin state condition  odometer  color interior  \\\n",
       "387952  1j8gn28k18w195884    oh     great  126044.0    red     gray   \n",
       "369170  2lmdj8jk4ebl06749    tn     great   10077.0      —    beige   \n",
       "165759  1gkfk13047r312578    md     great   90057.0   blue    beige   \n",
       "113164  jtdkdtb34c1509187    pa      fair   54808.0  black     gray   \n",
       "75538   1gks1ce05br150916    ca      poor   61831.0  black    black   \n",
       "\n",
       "                           seller      mmr  sellingprice  \\\n",
       "387952         tc's used cars llc   6450.0        7800.0   \n",
       "369170  ford motor credit company  36600.0       34000.0   \n",
       "165759         lexus of rockville  16700.0       15400.0   \n",
       "113164     ken pollock nissan llc  11900.0        9000.0   \n",
       "75538                         rvr  23500.0       24500.0   \n",
       "\n",
       "                                       saledate  price_interval  \n",
       "387952  Tue Mar 03 2015 01:30:00 GMT-0800 (PST)  (0.0, 12500.0]  \n",
       "369170  Thu Mar 05 2015 03:00:00 GMT-0800 (PST)  (12500.0, inf]  \n",
       "165759  Tue Jan 20 2015 01:30:00 GMT-0800 (PST)  (12500.0, inf]  \n",
       "113164  Fri Jan 16 2015 01:00:00 GMT-0800 (PST)  (0.0, 12500.0]  \n",
       "75538   Wed Dec 31 2014 12:30:00 GMT-0800 (PST)  (12500.0, inf]  "
      ]
     },
     "execution_count": 145,
     "metadata": {},
     "output_type": "execute_result"
    }
   ],
   "source": [
    "import numpy as np\n",
    "\n",
    "df_train.reset_index()\n",
    "df_test.reset_index()\n",
    "\n",
    "df_test.head()"
   ]
  },
  {
   "cell_type": "code",
   "execution_count": 146,
   "metadata": {},
   "outputs": [],
   "source": [
    "#encode the label of target as an integer\n",
    "from sklearn.preprocessing import LabelEncoder\n",
    "tmp = LabelEncoder()\n",
    "df_train.price_interval = tmp.fit_transform(df_train.price_interval)\n",
    "df_test.price_interval = tmp.transform(df_test.price_interval)"
   ]
  },
  {
   "cell_type": "code",
   "execution_count": 147,
   "metadata": {},
   "outputs": [
    {
     "name": "stdout",
     "output_type": "stream",
     "text": [
      "make has 49 unique values.\n",
      "model has 604 unique values.\n",
      "body has 8 unique values.\n",
      "transmission has 2 unique values.\n",
      "color has 20 unique values.\n",
      "interior has 17 unique values.\n",
      "state has 34 unique values.\n",
      "year has 10 unique values.\n",
      "trim has 1124 unique values.\n",
      "condition has 5 unique values.\n"
     ]
    },
    {
     "data": {
      "text/html": [
       "<div>\n",
       "<style scoped>\n",
       "    .dataframe tbody tr th:only-of-type {\n",
       "        vertical-align: middle;\n",
       "    }\n",
       "\n",
       "    .dataframe tbody tr th {\n",
       "        vertical-align: top;\n",
       "    }\n",
       "\n",
       "    .dataframe thead th {\n",
       "        text-align: right;\n",
       "    }\n",
       "</style>\n",
       "<table border=\"1\" class=\"dataframe\">\n",
       "  <thead>\n",
       "    <tr style=\"text-align: right;\">\n",
       "      <th></th>\n",
       "      <th>year</th>\n",
       "      <th>make</th>\n",
       "      <th>model</th>\n",
       "      <th>trim</th>\n",
       "      <th>body</th>\n",
       "      <th>transmission</th>\n",
       "      <th>vin</th>\n",
       "      <th>state</th>\n",
       "      <th>condition</th>\n",
       "      <th>odometer</th>\n",
       "      <th>color</th>\n",
       "      <th>interior</th>\n",
       "      <th>seller</th>\n",
       "      <th>mmr</th>\n",
       "      <th>sellingprice</th>\n",
       "      <th>saledate</th>\n",
       "      <th>price_interval</th>\n",
       "    </tr>\n",
       "  </thead>\n",
       "  <tbody>\n",
       "    <tr>\n",
       "      <th>387952</th>\n",
       "      <td>2008</td>\n",
       "      <td>Jeep</td>\n",
       "      <td>Liberty</td>\n",
       "      <td>Sport</td>\n",
       "      <td>suv</td>\n",
       "      <td>automatic</td>\n",
       "      <td>1j8gn28k18w195884</td>\n",
       "      <td>oh</td>\n",
       "      <td>great</td>\n",
       "      <td>126044.0</td>\n",
       "      <td>red</td>\n",
       "      <td>gray</td>\n",
       "      <td>tc's used cars llc</td>\n",
       "      <td>6450.0</td>\n",
       "      <td>7800.0</td>\n",
       "      <td>Tue Mar 03 2015 01:30:00 GMT-0800 (PST)</td>\n",
       "      <td>0</td>\n",
       "    </tr>\n",
       "    <tr>\n",
       "      <th>369170</th>\n",
       "      <td>2014</td>\n",
       "      <td>Lincoln</td>\n",
       "      <td>MKX</td>\n",
       "      <td>Base</td>\n",
       "      <td>suv</td>\n",
       "      <td>automatic</td>\n",
       "      <td>2lmdj8jk4ebl06749</td>\n",
       "      <td>tn</td>\n",
       "      <td>great</td>\n",
       "      <td>10077.0</td>\n",
       "      <td>—</td>\n",
       "      <td>beige</td>\n",
       "      <td>ford motor credit company</td>\n",
       "      <td>36600.0</td>\n",
       "      <td>34000.0</td>\n",
       "      <td>Thu Mar 05 2015 03:00:00 GMT-0800 (PST)</td>\n",
       "      <td>1</td>\n",
       "    </tr>\n",
       "    <tr>\n",
       "      <th>165759</th>\n",
       "      <td>2007</td>\n",
       "      <td>GMC</td>\n",
       "      <td>Yukon</td>\n",
       "      <td>SLE</td>\n",
       "      <td>suv</td>\n",
       "      <td>automatic</td>\n",
       "      <td>1gkfk13047r312578</td>\n",
       "      <td>md</td>\n",
       "      <td>great</td>\n",
       "      <td>90057.0</td>\n",
       "      <td>blue</td>\n",
       "      <td>beige</td>\n",
       "      <td>lexus of rockville</td>\n",
       "      <td>16700.0</td>\n",
       "      <td>15400.0</td>\n",
       "      <td>Tue Jan 20 2015 01:30:00 GMT-0800 (PST)</td>\n",
       "      <td>1</td>\n",
       "    </tr>\n",
       "    <tr>\n",
       "      <th>113164</th>\n",
       "      <td>2012</td>\n",
       "      <td>Toyota</td>\n",
       "      <td>Prius c</td>\n",
       "      <td>Two</td>\n",
       "      <td>hatchback</td>\n",
       "      <td>automatic</td>\n",
       "      <td>jtdkdtb34c1509187</td>\n",
       "      <td>pa</td>\n",
       "      <td>fair</td>\n",
       "      <td>54808.0</td>\n",
       "      <td>black</td>\n",
       "      <td>gray</td>\n",
       "      <td>ken pollock nissan llc</td>\n",
       "      <td>11900.0</td>\n",
       "      <td>9000.0</td>\n",
       "      <td>Fri Jan 16 2015 01:00:00 GMT-0800 (PST)</td>\n",
       "      <td>0</td>\n",
       "    </tr>\n",
       "    <tr>\n",
       "      <th>75538</th>\n",
       "      <td>2011</td>\n",
       "      <td>GMC</td>\n",
       "      <td>Yukon</td>\n",
       "      <td>SLT</td>\n",
       "      <td>suv</td>\n",
       "      <td>automatic</td>\n",
       "      <td>1gks1ce05br150916</td>\n",
       "      <td>ca</td>\n",
       "      <td>poor</td>\n",
       "      <td>61831.0</td>\n",
       "      <td>black</td>\n",
       "      <td>black</td>\n",
       "      <td>rvr</td>\n",
       "      <td>23500.0</td>\n",
       "      <td>24500.0</td>\n",
       "      <td>Wed Dec 31 2014 12:30:00 GMT-0800 (PST)</td>\n",
       "      <td>1</td>\n",
       "    </tr>\n",
       "  </tbody>\n",
       "</table>\n",
       "</div>"
      ],
      "text/plain": [
       "        year     make    model   trim       body transmission  \\\n",
       "387952  2008     Jeep  Liberty  Sport        suv    automatic   \n",
       "369170  2014  Lincoln      MKX   Base        suv    automatic   \n",
       "165759  2007      GMC    Yukon    SLE        suv    automatic   \n",
       "113164  2012   Toyota  Prius c    Two  hatchback    automatic   \n",
       "75538   2011      GMC    Yukon    SLT        suv    automatic   \n",
       "\n",
       "                      vin state condition  odometer  color interior  \\\n",
       "387952  1j8gn28k18w195884    oh     great  126044.0    red     gray   \n",
       "369170  2lmdj8jk4ebl06749    tn     great   10077.0      —    beige   \n",
       "165759  1gkfk13047r312578    md     great   90057.0   blue    beige   \n",
       "113164  jtdkdtb34c1509187    pa      fair   54808.0  black     gray   \n",
       "75538   1gks1ce05br150916    ca      poor   61831.0  black    black   \n",
       "\n",
       "                           seller      mmr  sellingprice  \\\n",
       "387952         tc's used cars llc   6450.0        7800.0   \n",
       "369170  ford motor credit company  36600.0       34000.0   \n",
       "165759         lexus of rockville  16700.0       15400.0   \n",
       "113164     ken pollock nissan llc  11900.0        9000.0   \n",
       "75538                         rvr  23500.0       24500.0   \n",
       "\n",
       "                                       saledate  price_interval  \n",
       "387952  Tue Mar 03 2015 01:30:00 GMT-0800 (PST)               0  \n",
       "369170  Thu Mar 05 2015 03:00:00 GMT-0800 (PST)               1  \n",
       "165759  Tue Jan 20 2015 01:30:00 GMT-0800 (PST)               1  \n",
       "113164  Fri Jan 16 2015 01:00:00 GMT-0800 (PST)               0  \n",
       "75538   Wed Dec 31 2014 12:30:00 GMT-0800 (PST)               1  "
      ]
     },
     "execution_count": 147,
     "metadata": {},
     "output_type": "execute_result"
    }
   ],
   "source": [
    "# define variables that should be encoded as integers   \n",
    "encoders = dict() # save each encoder in dictionary\n",
    "categorical_headers = ['make','model','body','transmission',\n",
    "                       'color','interior','state','year','trim','condition']\n",
    "\n",
    "# get unique values in each feature\n",
    "for col in categorical_headers:\n",
    "    print(f'{col} has {len(df_train[col].unique())} unique values.')\n",
    "    \n",
    "\n",
    "# ========================================================\n",
    "# define variables that should be scaled or made discrete\n",
    "numeric_headers = ['odometer', 'mmr','sellingprice']\n",
    "df_train[numeric_headers] = df_train[numeric_headers].to_numpy().astype(float)\n",
    "df_test[numeric_headers] = df_test[numeric_headers].to_numpy().astype(float)\n",
    "    \n",
    "df_test.head()"
   ]
  },
  {
   "cell_type": "code",
   "execution_count": 148,
   "metadata": {},
   "outputs": [
    {
     "name": "stdout",
     "output_type": "stream",
     "text": [
      "[ 3600. 10400. 37800. ... 57700. 19380. 59900.]\n",
      "[101930.  42210.   7176. ...  80082.  86425. 107224.]\n",
      "[  4725.  10350.  41100. ... 109000. 155000. 164000.]\n",
      "Number of unique values in 'sellingprice': 1642\n",
      "Number of unique values in 'odometer': 128756\n",
      "Number of unique values in 'mmr': 1096\n"
     ]
    }
   ],
   "source": [
    "print(df_train['sellingprice'].unique())\n",
    "print(df_train['odometer'].unique())\n",
    "print(df_train['mmr'].unique())\n",
    "condition_unique = df_train['sellingprice'].nunique()\n",
    "odometer_unique = df_train['odometer'].nunique()\n",
    "mmr_unique = df_train['mmr'].nunique()\n",
    "\n",
    "print(f\"Number of unique values in 'sellingprice': {condition_unique}\")\n",
    "print(f\"Number of unique values in 'odometer': {odometer_unique}\")\n",
    "print(f\"Number of unique values in 'mmr': {mmr_unique}\")\n"
   ]
  },
  {
   "cell_type": "code",
   "execution_count": 131,
   "metadata": {},
   "outputs": [
    {
     "name": "stdout",
     "output_type": "stream",
     "text": [
      "We will use the following 13 features:\n",
      "[   'make_int',\n",
      "    'model_int',\n",
      "    'body_int',\n",
      "    'transmission_int',\n",
      "    'color_int',\n",
      "    'interior_int',\n",
      "    'state_int',\n",
      "    'year_int',\n",
      "    'trim_int',\n",
      "    'condition_int',\n",
      "    'odometer',\n",
      "    'mmr',\n",
      "    'sellingprice']\n"
     ]
    },
    {
     "ename": "KeyError",
     "evalue": "\"['make_int', 'model_int', 'body_int', 'transmission_int', 'color_int', 'interior_int', 'state_int', 'year_int', 'trim_int', 'condition_int'] not in index\"",
     "output_type": "error",
     "traceback": [
      "\u001b[1;31m---------------------------------------------------------------------------\u001b[0m",
      "\u001b[1;31mKeyError\u001b[0m                                  Traceback (most recent call last)",
      "Cell \u001b[1;32mIn[131], line 15\u001b[0m\n\u001b[0;32m     12\u001b[0m pp\u001b[38;5;241m.\u001b[39mpprint(feature_columns)\n\u001b[0;32m     14\u001b[0m \u001b[38;5;66;03m# combine the features into a single large matrix\u001b[39;00m\n\u001b[1;32m---> 15\u001b[0m X_train \u001b[38;5;241m=\u001b[39m df_train[feature_columns]\u001b[38;5;241m.\u001b[39mto_numpy()\n\u001b[0;32m     16\u001b[0m X_test \u001b[38;5;241m=\u001b[39m df_test[feature_columns]\u001b[38;5;241m.\u001b[39mto_numpy()\n\u001b[0;32m     18\u001b[0m y_train \u001b[38;5;241m=\u001b[39m df_train[\u001b[38;5;124m'\u001b[39m\u001b[38;5;124mprice_interval\u001b[39m\u001b[38;5;124m'\u001b[39m]\u001b[38;5;241m.\u001b[39mvalues\u001b[38;5;241m.\u001b[39mastype(np\u001b[38;5;241m.\u001b[39mint32)\n",
      "File \u001b[1;32md:\\Users\\adeeb\\anaconda3\\Lib\\site-packages\\pandas\\core\\frame.py:3767\u001b[0m, in \u001b[0;36mDataFrame.__getitem__\u001b[1;34m(self, key)\u001b[0m\n\u001b[0;32m   3765\u001b[0m     \u001b[38;5;28;01mif\u001b[39;00m is_iterator(key):\n\u001b[0;32m   3766\u001b[0m         key \u001b[38;5;241m=\u001b[39m \u001b[38;5;28mlist\u001b[39m(key)\n\u001b[1;32m-> 3767\u001b[0m     indexer \u001b[38;5;241m=\u001b[39m \u001b[38;5;28mself\u001b[39m\u001b[38;5;241m.\u001b[39mcolumns\u001b[38;5;241m.\u001b[39m_get_indexer_strict(key, \u001b[38;5;124m\"\u001b[39m\u001b[38;5;124mcolumns\u001b[39m\u001b[38;5;124m\"\u001b[39m)[\u001b[38;5;241m1\u001b[39m]\n\u001b[0;32m   3769\u001b[0m \u001b[38;5;66;03m# take() does not accept boolean indexers\u001b[39;00m\n\u001b[0;32m   3770\u001b[0m \u001b[38;5;28;01mif\u001b[39;00m \u001b[38;5;28mgetattr\u001b[39m(indexer, \u001b[38;5;124m\"\u001b[39m\u001b[38;5;124mdtype\u001b[39m\u001b[38;5;124m\"\u001b[39m, \u001b[38;5;28;01mNone\u001b[39;00m) \u001b[38;5;241m==\u001b[39m \u001b[38;5;28mbool\u001b[39m:\n",
      "File \u001b[1;32md:\\Users\\adeeb\\anaconda3\\Lib\\site-packages\\pandas\\core\\indexes\\base.py:5877\u001b[0m, in \u001b[0;36mIndex._get_indexer_strict\u001b[1;34m(self, key, axis_name)\u001b[0m\n\u001b[0;32m   5874\u001b[0m \u001b[38;5;28;01melse\u001b[39;00m:\n\u001b[0;32m   5875\u001b[0m     keyarr, indexer, new_indexer \u001b[38;5;241m=\u001b[39m \u001b[38;5;28mself\u001b[39m\u001b[38;5;241m.\u001b[39m_reindex_non_unique(keyarr)\n\u001b[1;32m-> 5877\u001b[0m \u001b[38;5;28mself\u001b[39m\u001b[38;5;241m.\u001b[39m_raise_if_missing(keyarr, indexer, axis_name)\n\u001b[0;32m   5879\u001b[0m keyarr \u001b[38;5;241m=\u001b[39m \u001b[38;5;28mself\u001b[39m\u001b[38;5;241m.\u001b[39mtake(indexer)\n\u001b[0;32m   5880\u001b[0m \u001b[38;5;28;01mif\u001b[39;00m \u001b[38;5;28misinstance\u001b[39m(key, Index):\n\u001b[0;32m   5881\u001b[0m     \u001b[38;5;66;03m# GH 42790 - Preserve name from an Index\u001b[39;00m\n",
      "File \u001b[1;32md:\\Users\\adeeb\\anaconda3\\Lib\\site-packages\\pandas\\core\\indexes\\base.py:5941\u001b[0m, in \u001b[0;36mIndex._raise_if_missing\u001b[1;34m(self, key, indexer, axis_name)\u001b[0m\n\u001b[0;32m   5938\u001b[0m     \u001b[38;5;28;01mraise\u001b[39;00m \u001b[38;5;167;01mKeyError\u001b[39;00m(\u001b[38;5;124mf\u001b[39m\u001b[38;5;124m\"\u001b[39m\u001b[38;5;124mNone of [\u001b[39m\u001b[38;5;132;01m{\u001b[39;00mkey\u001b[38;5;132;01m}\u001b[39;00m\u001b[38;5;124m] are in the [\u001b[39m\u001b[38;5;132;01m{\u001b[39;00maxis_name\u001b[38;5;132;01m}\u001b[39;00m\u001b[38;5;124m]\u001b[39m\u001b[38;5;124m\"\u001b[39m)\n\u001b[0;32m   5940\u001b[0m not_found \u001b[38;5;241m=\u001b[39m \u001b[38;5;28mlist\u001b[39m(ensure_index(key)[missing_mask\u001b[38;5;241m.\u001b[39mnonzero()[\u001b[38;5;241m0\u001b[39m]]\u001b[38;5;241m.\u001b[39munique())\n\u001b[1;32m-> 5941\u001b[0m \u001b[38;5;28;01mraise\u001b[39;00m \u001b[38;5;167;01mKeyError\u001b[39;00m(\u001b[38;5;124mf\u001b[39m\u001b[38;5;124m\"\u001b[39m\u001b[38;5;132;01m{\u001b[39;00mnot_found\u001b[38;5;132;01m}\u001b[39;00m\u001b[38;5;124m not in index\u001b[39m\u001b[38;5;124m\"\u001b[39m)\n",
      "\u001b[1;31mKeyError\u001b[0m: \"['make_int', 'model_int', 'body_int', 'transmission_int', 'color_int', 'interior_int', 'state_int', 'year_int', 'trim_int', 'condition_int'] not in index\""
     ]
    }
   ],
   "source": []
  },
  {
   "cell_type": "code",
   "execution_count": 149,
   "metadata": {},
   "outputs": [],
   "source": [
    "from tensorflow.keras.layers import Dense, Activation, Input\n",
    "from tensorflow.keras.layers import Embedding, Concatenate, Flatten\n",
    "from tensorflow.keras.models import Model\n",
    "from tensorflow.keras.utils import plot_model"
   ]
  },
  {
   "cell_type": "code",
   "execution_count": 152,
   "metadata": {},
   "outputs": [
    {
     "name": "stdout",
     "output_type": "stream",
     "text": [
      "2.16.1\n",
      "3.11.5 | packaged by Anaconda, Inc. | (main, Sep 11 2023, 13:26:23) [MSC v.1916 64 bit (AMD64)]\n"
     ]
    }
   ],
   "source": [
    "from sklearn import metrics as mt\n",
    "import tensorflow as tf\n",
    "from tensorflow import keras\n",
    "import sys\n",
    "import os\n",
    "\n",
    "os.environ['KMP_DUPLICATE_LIB_OK']='True'\n",
    "print(tf.__version__)\n",
    "print(sys.version)"
   ]
  },
  {
   "cell_type": "code",
   "execution_count": 153,
   "metadata": {},
   "outputs": [],
   "source": [
    "# create a tensorflow dataset, for ease of use later\n",
    "batch_size = 64\n",
    "\n",
    "def create_dataset_from_dataframe(df_input):\n",
    "\n",
    "    df = df_input.copy()\n",
    "    labels = df['price_interval']\n",
    "\n",
    "    df = {key: value.values[:,np.newaxis] for key, value in df_input[categorical_headers+numeric_headers].items()}\n",
    "\n",
    "    # create the Dataset here\n",
    "    ds = tf.data.Dataset.from_tensor_slices((dict(df), labels))\n",
    "    \n",
    "    # now enable batching and prefetching\n",
    "    ds = ds.batch(batch_size)\n",
    "    ds = ds.prefetch(batch_size)\n",
    "    \n",
    "    return ds\n",
    "\n",
    "ds_train = create_dataset_from_dataframe(df_train)\n",
    "ds_test = create_dataset_from_dataframe(df_test)"
   ]
  },
  {
   "cell_type": "markdown",
   "metadata": {},
   "source": [
    "### Modeling (5 points total)\n",
    "- [2 points] Create at least three combined wide and deep networks to classify your data using Keras (this total of \"three\" includes the model you will train in the next step of the rubric). Visualize the performance of the network on the training data and validation data in the same plot versus the training iterations.\n",
    "Note: you can use the \"history\" return parameter that is part of Keras \"fit\" function to easily access this data.\n",
    "\n",
    "- [2 points] Investigate generalization performance by altering the number of layers in the deep branch of the network. Try at least two models (this \"two\" includes the wide and deep model trained from the previous step). Use the method of cross validation and evaluation metric that you argued for at the beginning of the lab to answer: What model with what number of layers performs superiorly? Use proper statistical methods to compare the performance of different models.\n",
    "\n",
    "- [1 points] Compare the performance of your best wide and deep network to a standard multi-layer perceptron (MLP). Alternatively, you can compare to a network without the wide branch (i.e., just the deep network). For classification tasks, compare using the receiver operating characteristic and area under the curve. For regression tasks, use Bland-Altman plots and residual variance calculations.  Use proper statistical methods to compare the performance of different models.  \n"
   ]
  },
  {
   "cell_type": "markdown",
   "metadata": {},
   "source": [
    "### Exceptional Work (1 points total)\n",
    "5000 students: You have free reign to provide additional analyses.\n",
    "One idea (required for 7000 level students): Capture the embedding weights from the deep network and (if needed) perform dimensionality reduction on the output of these embedding layers (only if needed). That is, pass the observations into the network, save the embedded weights (called embeddings), and then perform  dimensionality reduction in order to visualize results. Visualize and explain any clusters in the data."
   ]
  }
 ],
 "metadata": {
  "kernelspec": {
   "display_name": "Python 3",
   "language": "python",
   "name": "python3"
  },
  "language_info": {
   "codemirror_mode": {
    "name": "ipython",
    "version": 3
   },
   "file_extension": ".py",
   "mimetype": "text/x-python",
   "name": "python",
   "nbconvert_exporter": "python",
   "pygments_lexer": "ipython3",
   "version": "3.11.5"
  }
 },
 "nbformat": 4,
 "nbformat_minor": 2
}
